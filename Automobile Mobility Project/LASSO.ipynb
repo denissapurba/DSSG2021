{
 "cells": [
  {
   "cell_type": "code",
   "execution_count": 2,
   "metadata": {},
   "outputs": [
    {
     "name": "stderr",
     "output_type": "stream",
     "text": [
      "In C:\\Users\\denis\\Anaconda3\\lib\\site-packages\\matplotlib\\mpl-data\\stylelib\\_classic_test.mplstyle: \n",
      "The text.latex.preview rcparam was deprecated in Matplotlib 3.3 and will be removed two minor releases later.\n",
      "In C:\\Users\\denis\\Anaconda3\\lib\\site-packages\\matplotlib\\mpl-data\\stylelib\\_classic_test.mplstyle: \n",
      "The mathtext.fallback_to_cm rcparam was deprecated in Matplotlib 3.3 and will be removed two minor releases later.\n",
      "In C:\\Users\\denis\\Anaconda3\\lib\\site-packages\\matplotlib\\mpl-data\\stylelib\\_classic_test.mplstyle: Support for setting the 'mathtext.fallback_to_cm' rcParam is deprecated since 3.3 and will be removed two minor releases later; use 'mathtext.fallback : 'cm' instead.\n",
      "In C:\\Users\\denis\\Anaconda3\\lib\\site-packages\\matplotlib\\mpl-data\\stylelib\\_classic_test.mplstyle: \n",
      "The validate_bool_maybe_none function was deprecated in Matplotlib 3.3 and will be removed two minor releases later.\n",
      "In C:\\Users\\denis\\Anaconda3\\lib\\site-packages\\matplotlib\\mpl-data\\stylelib\\_classic_test.mplstyle: \n",
      "The savefig.jpeg_quality rcparam was deprecated in Matplotlib 3.3 and will be removed two minor releases later.\n",
      "In C:\\Users\\denis\\Anaconda3\\lib\\site-packages\\matplotlib\\mpl-data\\stylelib\\_classic_test.mplstyle: \n",
      "The keymap.all_axes rcparam was deprecated in Matplotlib 3.3 and will be removed two minor releases later.\n",
      "In C:\\Users\\denis\\Anaconda3\\lib\\site-packages\\matplotlib\\mpl-data\\stylelib\\_classic_test.mplstyle: \n",
      "The animation.avconv_path rcparam was deprecated in Matplotlib 3.3 and will be removed two minor releases later.\n",
      "In C:\\Users\\denis\\Anaconda3\\lib\\site-packages\\matplotlib\\mpl-data\\stylelib\\_classic_test.mplstyle: \n",
      "The animation.avconv_args rcparam was deprecated in Matplotlib 3.3 and will be removed two minor releases later.\n"
     ]
    }
   ],
   "source": [
    "import pandas as pd\n",
    "import numpy as np\n",
    "from sklearn import datasets, linear_model\n",
    "from sklearn.linear_model import LinearRegression\n",
    "import matplotlib.pyplot as plt\n",
    "import numpy as np\n",
    "from sklearn import datasets, linear_model\n",
    "from sklearn.metrics import mean_squared_error, r2_score\n",
    "from sklearn.linear_model import *\n",
    "from sklearn.model_selection import train_test_split  \n",
    "import statsmodels.api as sm\n",
    "from scipy import stats\n",
    "from statsmodels.stats.outliers_influence import variance_inflation_factor as vif   \n",
    "import seaborn as sb\n",
    "from regressors import stats \n",
    "from sklearn.preprocessing import StandardScaler   \n",
    "from sklearn.model_selection import GridSearchCV"
   ]
  },
  {
   "cell_type": "markdown",
   "metadata": {},
   "source": [
    "### 1. Linear Regressions"
   ]
  },
  {
   "cell_type": "markdown",
   "metadata": {},
   "source": [
    "#### Data:"
   ]
  },
  {
   "cell_type": "code",
   "execution_count": 73,
   "metadata": {},
   "outputs": [],
   "source": [
    "dcdf = pd.read_excel('ols_complete.xlsx')\n",
    "X=dcdf.drop('y', axis=1)\n",
    "y = dcdf['y']\n",
    "\n",
    "X_train, X_test, y_train, y_test = train_test_split(X, y, test_size=0.5, random_state=42)  "
   ]
  },
  {
   "cell_type": "markdown",
   "metadata": {},
   "source": [
    "#### Train:"
   ]
  },
  {
   "cell_type": "code",
   "execution_count": 74,
   "metadata": {},
   "outputs": [
    {
     "name": "stdout",
     "output_type": "stream",
     "text": [
      "Residuals:\n",
      "     Min      1Q  Median    3Q      Max\n",
      "-14.5136 -1.9975 -0.3284  2.44  20.8646\n",
      "\n",
      "\n",
      "Coefficients:\n",
      "             Estimate              Std. Error             t value   p value\n",
      "_intercept  24.130725      8.789067+0.000000j  2.745500-0.000000j  0.007324\n",
      "x1          -0.027047      0.210262+0.000000j -0.128600+0.000000j  0.897939\n",
      "x2           0.048774      0.183080+0.000000j  0.266400-0.000000j  0.790550\n",
      "x3           0.097032      0.190645-0.000000j  0.509000+0.000000j  0.612050\n",
      "x4          -0.012660      0.011610+0.000000j -1.090400+0.000000j  0.278494\n",
      "x5          -0.002056      0.004851+0.000000j -0.423900+0.000000j  0.672707\n",
      "x6          -0.008769      0.003530-0.000000j -2.483900-0.000000j  0.014888\n",
      "x7          -0.000009      0.000022-0.000000j -0.401200-0.000000j  0.689219\n",
      "x8          -0.000027      0.000016-0.000000j -1.727600-0.000000j  0.087569\n",
      "x9          -0.003566      0.000552-0.000000j -6.453600-0.000000j  0.000000\n",
      "x10          0.000794  15007.118707-0.000000j  0.000000+0.000000j  1.000000\n",
      "x11          0.000095      0.000011-0.000000j  9.016500+0.000000j  0.000000\n",
      "x12          0.001607      0.006444+0.000000j  0.249400+0.000000j  0.803646\n",
      "x13         -0.004720      0.007712+0.000000j -0.612000+0.000000j  0.542123\n",
      "x14          0.004442      0.002427+0.000000j  1.830400-0.000000j  0.070582\n",
      "x15          0.000021      0.000036+0.000000j  0.573900+0.000000j  0.567516\n",
      "x16         -0.007443  15944.477209+0.000000j -0.000000+0.000000j  1.000000\n",
      "x17         -0.002122  15944.477753+0.000000j -0.000000+0.000000j  1.000000\n",
      "x18          0.010359  15944.478664+0.000000j  0.000000-0.000000j  0.999999\n",
      "x19          0.111797      0.052977+0.000000j  2.110300-0.000000j  0.037672\n",
      "x20         -0.026463      0.060351+0.000000j -0.438500+0.000000j  0.662114\n",
      "x21         -0.001837      0.185314+0.000000j -0.009900+0.000000j  0.992113\n",
      "x22          0.088786      0.158471+0.000000j  0.560300+0.000000j  0.576718\n",
      "x23          0.004975      0.006558+0.000000j  0.758600+0.000000j  0.450124\n",
      "x24         -0.003436  20778.078690+0.000000j -0.000000+0.000000j  1.000000\n",
      "x25          0.016843  20778.078572-0.000000j  0.000000+0.000000j  0.999999\n",
      "x26         -0.007640  20778.079074+0.000000j -0.000000+0.000000j  1.000000\n",
      "x27         -0.004974  20778.080185+0.000000j -0.000000+0.000000j  1.000000\n",
      "---\n",
      "R-squared:  0.82601,    Adjusted R-squared:  0.74900\n",
      "F-statistic: 10.73 on 27 features\n"
     ]
    }
   ],
   "source": [
    "# Create linear regression object\n",
    "reg1 = linear_model.LinearRegression()\n",
    "\n",
    "# Train the model using the training sets\n",
    "reg1.fit(X_train, y_train)\n",
    "reg1.score(X_train, y_train)\n",
    "stats.summary(reg1, X_train, y_train)"
   ]
  },
  {
   "cell_type": "code",
   "execution_count": 75,
   "metadata": {},
   "outputs": [
    {
     "name": "stdout",
     "output_type": "stream",
     "text": [
      "0.8260090372973465\n",
      "20.962585825524055\n"
     ]
    }
   ],
   "source": [
    "y_pred = reg1.predict(X_train)\n",
    "print(reg1.score(X_train, y_train))\n",
    "print(mean_squared_error(y_train, y_pred))"
   ]
  },
  {
   "cell_type": "markdown",
   "metadata": {},
   "source": [
    "#### Test:"
   ]
  },
  {
   "cell_type": "code",
   "execution_count": 76,
   "metadata": {},
   "outputs": [
    {
     "name": "stdout",
     "output_type": "stream",
     "text": [
      "0.6140374533341029\n",
      "24.36985888130216\n"
     ]
    },
    {
     "data": {
      "text/plain": [
       "array([-2.70473329e-02,  4.87737205e-02,  9.70318207e-02, -1.26599255e-02,\n",
       "       -2.05594902e-03, -8.76870681e-03, -8.76617055e-06, -2.71211944e-05,\n",
       "       -3.56555519e-03,  7.93608181e-04,  9.47816575e-05,  1.60708421e-03,\n",
       "       -4.71989343e-03,  4.44243201e-03,  2.05492789e-05, -7.44330400e-03,\n",
       "       -2.12229037e-03,  1.03592026e-02,  1.11796575e-01, -2.64628611e-02,\n",
       "       -1.83693329e-03,  8.87864352e-02,  4.97476384e-03, -3.43590112e-03,\n",
       "        1.68427379e-02, -7.63956219e-03, -4.97366642e-03])"
      ]
     },
     "execution_count": 76,
     "metadata": {},
     "output_type": "execute_result"
    }
   ],
   "source": [
    "y_pred = reg1.predict(X_test)\n",
    "print(reg1.score(X_test, y_test))\n",
    "print(mean_squared_error(y_test, y_pred))\n",
    "reg1.coef_"
   ]
  },
  {
   "cell_type": "code",
   "execution_count": 79,
   "metadata": {},
   "outputs": [
    {
     "data": {
      "text/plain": [
       "array([26.61350855, 47.92576049, 22.33851497, 35.98747086,  8.19157773,\n",
       "       33.22000131, 36.09467013, 37.76898738, 27.22565069, 33.85887584,\n",
       "       40.58210719, 36.81546315, 31.19458753, 40.34046738, 36.70176776,\n",
       "       40.75275402, 31.27006701, 37.64338288, 31.845274  , 38.78840028,\n",
       "       29.12193355, 43.14945909, 36.8538251 , 50.16076226, 30.99035216,\n",
       "       44.89977705, 32.40161945, 34.69599187, 33.17443733, 45.46712336,\n",
       "       31.56621232, 19.52587288, 29.74228979, 44.48011496, 38.06635262,\n",
       "       37.39588848, 35.0005231 , 35.64232433, 51.16659458, 27.12014377,\n",
       "       30.03426596, 47.07301297, 28.36335186, 31.86803672, 33.2833207 ,\n",
       "       35.74829761, 35.22503781, 46.21219071, 31.06260309, 40.44190139,\n",
       "       29.53631289, 38.66229176, 37.07852613, 35.7919233 , 44.99423798,\n",
       "       36.67968336, 36.02231993, 28.01776316, 32.06104523, 30.88594727,\n",
       "       39.6537882 , 31.90204935, 35.71575896, 36.37748878, 67.49905372,\n",
       "       29.15133126, 36.3738791 , 37.7835352 , 48.04982702, 42.00262779,\n",
       "       44.27048199, 30.80282171, 47.68836789, 46.61000531, 24.62775285,\n",
       "       41.28799805, 26.18061942, 54.69577927, 31.49205378, 31.085291  ,\n",
       "       46.54485131, 33.60200627, 38.21682673, 38.72572615, 29.42108239,\n",
       "       31.92830288, 39.47288229, 48.48236435, 37.21875687, 26.6500293 ])"
      ]
     },
     "execution_count": 79,
     "metadata": {},
     "output_type": "execute_result"
    }
   ],
   "source": [
    "y_pred"
   ]
  },
  {
   "cell_type": "code",
   "execution_count": 80,
   "metadata": {
    "scrolled": true
   },
   "outputs": [],
   "source": [
    "y_test.to_excel('ols_test.xlsx')"
   ]
  },
  {
   "cell_type": "code",
   "execution_count": null,
   "metadata": {},
   "outputs": [],
   "source": []
  },
  {
   "cell_type": "code",
   "execution_count": null,
   "metadata": {},
   "outputs": [],
   "source": []
  },
  {
   "cell_type": "code",
   "execution_count": null,
   "metadata": {},
   "outputs": [],
   "source": []
  },
  {
   "cell_type": "markdown",
   "metadata": {},
   "source": [
    "### 2. Lasso Regressions"
   ]
  },
  {
   "cell_type": "markdown",
   "metadata": {},
   "source": [
    "#### Data:"
   ]
  },
  {
   "cell_type": "code",
   "execution_count": 56,
   "metadata": {},
   "outputs": [],
   "source": [
    "dcdf = pd.read_excel('ols_complete_mod03.xlsx')\n",
    "X=dcdf.drop('y', axis=1)\n",
    "y = dcdf['y']\n",
    "\n",
    "X_train, X_test, y_train, y_test = train_test_split(X, y, test_size=0.5, random_state=42)  "
   ]
  },
  {
   "cell_type": "markdown",
   "metadata": {},
   "source": [
    "#### Train:"
   ]
  },
  {
   "cell_type": "code",
   "execution_count": 57,
   "metadata": {},
   "outputs": [
    {
     "name": "stdout",
     "output_type": "stream",
     "text": [
      "Lasso best alpha:\n",
      "{'alpha': 0.0001}\n",
      "R2 score\n",
      "0.8263667370291145\n"
     ]
    },
    {
     "name": "stderr",
     "output_type": "stream",
     "text": [
      "C:\\Users\\denis\\Anaconda3\\lib\\site-packages\\sklearn\\model_selection\\_search.py:814: DeprecationWarning: The default of the `iid` parameter will change from True to False in version 0.22 and will be removed in 0.24. This will change numeric results when test-set sizes are unequal.\n",
      "  DeprecationWarning)\n"
     ]
    }
   ],
   "source": [
    "alphas = np.linspace(.0001, 2, 1)\n",
    "param = [{'alpha': alphas}]\n",
    "lasso = Lasso(random_state=42, max_iter=50000, copy_X=True, normalize=True)\n",
    "reg_lasso = GridSearchCV(lasso, param, cv = 5)\n",
    "reg_lasso.fit(X_train, y_train)\n",
    "print('Lasso best alpha:')\n",
    "print(reg_lasso.best_params_)\n",
    "print('R2 score')\n",
    "print(reg_lasso.score(X_train, y_train))"
   ]
  },
  {
   "cell_type": "code",
   "execution_count": 58,
   "metadata": {},
   "outputs": [
    {
     "name": "stdout",
     "output_type": "stream",
     "text": [
      "R2 score\n",
      "1.0\n"
     ]
    }
   ],
   "source": [
    "lasso_best=Lasso(alpha = 0.0001, random_state=42, max_iter=100000, copy_X=True, normalize=True )\n",
    "lasso_best.fit(X_train, y_train)\n",
    "y_pred = lasso_best.predict(X_train)\n",
    "print('R2 score')\n",
    "print(lasso_best.score(X_train, y_pred))"
   ]
  },
  {
   "cell_type": "code",
   "execution_count": 59,
   "metadata": {},
   "outputs": [
    {
     "data": {
      "text/plain": [
       "12.557036510447904"
      ]
     },
     "execution_count": 59,
     "metadata": {},
     "output_type": "execute_result"
    }
   ],
   "source": [
    "mean_squared_error(y_train, y_pred)"
   ]
  },
  {
   "cell_type": "code",
   "execution_count": 60,
   "metadata": {},
   "outputs": [
    {
     "name": "stdout",
     "output_type": "stream",
     "text": [
      "Residuals:\n",
      "    Min      1Q  Median     3Q      Max\n",
      "-13.586 -1.5026 -0.1433  1.397  16.8257\n",
      "\n",
      "\n",
      "Coefficients:\n",
      "             Estimate              Std. Error             t value   p value\n",
      "_intercept  12.533670      6.507182+0.000000j  1.926100-0.000000j  0.057316\n",
      "x1          -0.024228      0.161000+0.000000j -0.150500+0.000000j  0.880729\n",
      "x2           0.122442      0.139518+0.000000j  0.877600-0.000000j  0.382545\n",
      "x3           0.142747      0.144250-0.000000j  0.989600+0.000000j  0.325092\n",
      "x4          -0.010136      0.008661-0.000000j -1.170300-0.000000j  0.245032\n",
      "x5          -0.002136      0.003637+0.000000j -0.587400+0.000000j  0.558458\n",
      "x6          -0.004493      0.002663-0.000000j -1.687100-0.000000j  0.095118\n",
      "x7          -0.000013      0.000014+0.000001j -0.930500+0.049700j  0.353971\n",
      "x8          -0.000026      0.000012-0.000000j -2.170400-0.000000j  0.032671\n",
      "x9          -0.001577      0.000414+0.000000j -3.812400+0.000000j  0.000255\n",
      "x10         -0.000000  22142.527020+0.000000j  0.000000+0.000000j  1.000000\n",
      "x11          0.000042      0.000003+0.000003j  7.233600-6.179900j  0.000000\n",
      "x12          0.009478      0.003704-0.000000j  2.558800+0.000000j  0.012213\n",
      "x13          0.010615      0.003730-0.000000j  2.845700+0.000000j  0.005513\n",
      "x14          0.002575      0.001817+0.000000j  1.417700-0.000000j  0.159817\n",
      "x15         -0.000006      0.000026-0.000000j -0.233900-0.000200j  0.815582\n",
      "x16         -0.012324  22142.527545-0.000000j -0.000000-0.000000j  1.000000\n",
      "x17         -0.007706  22142.527664+0.000000j -0.000000+0.000000j  1.000000\n",
      "x18          0.007122  22142.528565+0.000000j  0.000000-0.000000j  1.000000\n",
      "x19          0.137632      0.038212+0.000000j  3.601800-0.000000j  0.000522\n",
      "x20         -0.016056      0.044940-0.000000j -0.357300-0.000000j  0.721744\n",
      "x21          0.049244      0.138168+0.000000j  0.356400-0.000000j  0.722391\n",
      "x22          0.023506      0.121287+0.000000j  0.193800-0.000000j  0.846776\n",
      "---\n",
      "R-squared:  0.82637,    Adjusted R-squared:  0.76849\n",
      "F-statistic: 14.28 on 22 features\n"
     ]
    }
   ],
   "source": [
    "stats.summary(lasso_best, X_train, y_train)"
   ]
  },
  {
   "cell_type": "code",
   "execution_count": 61,
   "metadata": {},
   "outputs": [
    {
     "name": "stdout",
     "output_type": "stream",
     "text": [
      "Coefficients: \n",
      " [-2.42275243e-02  1.22442368e-01  1.42746993e-01 -1.01357546e-02\n",
      " -2.13634923e-03 -4.49346275e-03 -1.34711955e-05 -2.59849681e-05\n",
      " -1.57726302e-03 -0.00000000e+00  4.18506111e-05  9.47795548e-03\n",
      "  1.06153911e-02  2.57542573e-03 -6.13752643e-06 -1.23235382e-02\n",
      " -7.70613933e-03  7.12207415e-03  1.37631940e-01 -1.60558699e-02\n",
      "  4.92436317e-02  2.35060208e-02]\n",
      "Mean squared error: 15.53\n",
      "Coefficient of determination: 0.72\n"
     ]
    }
   ],
   "source": [
    "# Make predictions using the testing set\n",
    "y_pred = lasso_best.predict(X_test)\n",
    "\n",
    "len(y_pred)\n",
    "# The coefficients\n",
    "print('Coefficients: \\n', lasso_best.coef_)\n",
    "# The mean squared error\n",
    "print('Mean squared error: %.2f'\n",
    "      % mean_squared_error(y_test, y_pred))\n",
    "# The coefficient of determination: 1 is perfect prediction\n",
    "print('Coefficient of determination: %.2f'\n",
    "      % r2_score(y_test, y_pred))"
   ]
  },
  {
   "cell_type": "markdown",
   "metadata": {},
   "source": [
    "### In here the LASSO provide a better estimation and there is a drop for x10 and x15"
   ]
  },
  {
   "cell_type": "code",
   "execution_count": 62,
   "metadata": {},
   "outputs": [],
   "source": [
    "dcdf = pd.read_excel('ols_complete_mod03_drop1015.xlsx')\n",
    "X=dcdf.drop('y', axis=1)\n",
    "y = dcdf['y']\n",
    "\n",
    "X_train, X_test, y_train, y_test = train_test_split(X, y, test_size=0.5, random_state=42)  "
   ]
  },
  {
   "cell_type": "code",
   "execution_count": 63,
   "metadata": {},
   "outputs": [
    {
     "name": "stdout",
     "output_type": "stream",
     "text": [
      "Lasso best alpha:\n",
      "{'alpha': 0.0001}\n",
      "R2 score\n",
      "0.8263321316634188\n"
     ]
    },
    {
     "name": "stderr",
     "output_type": "stream",
     "text": [
      "C:\\Users\\denis\\Anaconda3\\lib\\site-packages\\sklearn\\model_selection\\_search.py:814: DeprecationWarning: The default of the `iid` parameter will change from True to False in version 0.22 and will be removed in 0.24. This will change numeric results when test-set sizes are unequal.\n",
      "  DeprecationWarning)\n"
     ]
    }
   ],
   "source": [
    "alphas = np.linspace(.0001, 2, 1)\n",
    "param = [{'alpha': alphas}]\n",
    "lasso = Lasso(random_state=42, max_iter=50000, copy_X=True, normalize=True)\n",
    "reg_lasso = GridSearchCV(lasso, param, cv = 5)\n",
    "reg_lasso.fit(X_train, y_train)\n",
    "print('Lasso best alpha:')\n",
    "print(reg_lasso.best_params_)\n",
    "print('R2 score')\n",
    "print(reg_lasso.score(X_train, y_train))"
   ]
  },
  {
   "cell_type": "code",
   "execution_count": 64,
   "metadata": {},
   "outputs": [
    {
     "name": "stdout",
     "output_type": "stream",
     "text": [
      "R2 score\n",
      "1.0\n"
     ]
    }
   ],
   "source": [
    "lasso_best=Lasso(alpha = 0.0001, random_state=42, max_iter=100000, copy_X=True, normalize=True )\n",
    "lasso_best.fit(X_train, y_train)\n",
    "y_pred = lasso_best.predict(X_train)\n",
    "print('R2 score')\n",
    "print(lasso_best.score(X_train, y_pred))"
   ]
  },
  {
   "cell_type": "code",
   "execution_count": 65,
   "metadata": {},
   "outputs": [
    {
     "data": {
      "text/plain": [
       "12.559539146366076"
      ]
     },
     "execution_count": 65,
     "metadata": {},
     "output_type": "execute_result"
    }
   ],
   "source": [
    "mean_squared_error(y_train, y_pred)"
   ]
  },
  {
   "cell_type": "code",
   "execution_count": 66,
   "metadata": {},
   "outputs": [
    {
     "name": "stdout",
     "output_type": "stream",
     "text": [
      "Residuals:\n",
      "     Min      1Q  Median      3Q      Max\n",
      "-13.5755 -1.4519 -0.0952  1.4287  16.8733\n",
      "\n",
      "\n",
      "Coefficients:\n",
      "             Estimate  Std. Error  t value   p value\n",
      "_intercept  12.494809    6.500298   1.9222  0.057817\n",
      "x1          -0.026608    0.159788  -0.1665  0.868130\n",
      "x2           0.122635    0.139467   0.8793  0.381627\n",
      "x3           0.142852    0.144254   0.9903  0.324750\n",
      "x4          -0.010130    0.008742  -1.1588  0.249689\n",
      "x5          -0.001997    0.003580  -0.5579  0.578340\n",
      "x6          -0.004768    0.001755  -2.7167  0.007938\n",
      "x7          -0.000015    0.000015  -0.9706  0.334412\n",
      "x8          -0.000025    0.000012  -2.1367  0.035400\n",
      "x9          -0.001564    0.000371  -4.2211  0.000059\n",
      "x10          0.000042    0.000006   6.6270  0.000000\n",
      "x11          0.009414    0.003287   2.8642  0.005226\n",
      "x12          0.010736    0.003624   2.9622  0.003928\n",
      "x13          0.002519    0.001748   1.4407  0.153221\n",
      "x14         -0.012270    0.002289  -5.3596  0.000001\n",
      "x15         -0.007648    0.002366  -3.2328  0.001726\n",
      "x16          0.007066    0.003196   2.2106  0.029654\n",
      "x17          0.139765    0.036127   3.8687  0.000209\n",
      "x18         -0.014112    0.043660  -0.3232  0.747301\n",
      "x19          0.048100    0.137450   0.3499  0.727214\n",
      "x20          0.020985    0.119972   0.1749  0.861548\n",
      "---\n",
      "R-squared:  0.82633,    Adjusted R-squared:  0.77525\n",
      "F-statistic: 16.18 on 20 features\n"
     ]
    }
   ],
   "source": [
    "stats.summary(lasso_best, X_train, y_train)"
   ]
  },
  {
   "cell_type": "code",
   "execution_count": 67,
   "metadata": {},
   "outputs": [
    {
     "name": "stdout",
     "output_type": "stream",
     "text": [
      "Coefficients: \n",
      " [-2.66077744e-02  1.22634883e-01  1.42852438e-01 -1.01300282e-02\n",
      " -1.99744335e-03 -4.76808136e-03 -1.50074296e-05 -2.51152134e-05\n",
      " -1.56405957e-03  4.19692147e-05  9.41402419e-03  1.07361125e-02\n",
      "  2.51857862e-03 -1.22700159e-02 -7.64782699e-03  7.06581736e-03\n",
      "  1.39764691e-01 -1.41115353e-02  4.81001891e-02  2.09849978e-02]\n",
      "Mean squared error: 15.55\n",
      "Coefficient of determination: 0.72\n"
     ]
    }
   ],
   "source": [
    "# Make predictions using the testing set\n",
    "y_pred = lasso_best.predict(X_test)\n",
    "\n",
    "len(y_pred)\n",
    "# The coefficients\n",
    "print('Coefficients: \\n', lasso_best.coef_)\n",
    "# The mean squared error\n",
    "print('Mean squared error: %.2f'\n",
    "      % mean_squared_error(y_test, y_pred))\n",
    "# The coefficient of determination: 1 is perfect prediction\n",
    "print('Coefficient of determination: %.2f'\n",
    "      % r2_score(y_test, y_pred))"
   ]
  },
  {
   "cell_type": "code",
   "execution_count": 68,
   "metadata": {},
   "outputs": [
    {
     "data": {
      "text/plain": [
       "array([13.7995867 , 28.74422571,  3.44181174, 19.35504535,  3.58372944,\n",
       "       22.34608114, 21.98483629, 24.41139473, 15.59039527, 23.15996984,\n",
       "       24.55323504, 21.09711602, 19.28965563, 25.22775692, 21.58672554,\n",
       "       23.94179803, 18.61658611, 21.88066542, 16.27051512, 24.6400366 ,\n",
       "       15.37889363, 29.67583918, 22.84975187, 29.52252909, 14.89433562,\n",
       "       29.33397929, 16.07716529, 19.24197819, 14.72635815, 25.84768642,\n",
       "       13.27174217, 10.63696659,  8.99087753, 28.78757237, 25.31116494,\n",
       "       21.04844211, 19.33930253, 25.68306092, 34.73808897, 15.3944774 ,\n",
       "       14.61497642, 28.71408046, 10.90065705, 17.80686447, 20.55107709,\n",
       "       22.93778256, 20.5742696 , 33.30095724, 17.34344979, 23.64303783,\n",
       "       19.74567818, 23.90933248, 24.27184882, 20.22302067, 27.9892003 ,\n",
       "       20.77035001, 21.36160545, 12.30481786, 13.81255779, 12.01066242,\n",
       "       23.69493846, 19.25137851, 23.97439232, 20.8952591 , 45.27594769,\n",
       "       15.45260708, 23.03178307, 21.77876422, 31.32337082, 26.90291487,\n",
       "       28.24988042,  9.28202837, 30.77292745, 31.91407968, 10.77709884,\n",
       "       25.6016089 , 12.65398141, 38.91496985, 16.49183713, 17.44540934,\n",
       "       29.28665965, 15.27307891, 20.70833636, 23.7169411 , 13.27756333,\n",
       "       16.64119028, 25.70712966, 32.16015485, 22.3353739 ,  8.8925799 ])"
      ]
     },
     "execution_count": 68,
     "metadata": {},
     "output_type": "execute_result"
    }
   ],
   "source": [
    "y_pred"
   ]
  },
  {
   "cell_type": "code",
   "execution_count": 69,
   "metadata": {},
   "outputs": [
    {
     "data": {
      "text/plain": [
       "78     15.59\n",
       "16     28.36\n",
       "65     10.85\n",
       "114    18.37\n",
       "76     12.43\n",
       "       ...  \n",
       "101    15.36\n",
       "28     29.06\n",
       "40     48.15\n",
       "137    23.94\n",
       "138     9.95\n",
       "Name: y, Length: 90, dtype: float64"
      ]
     },
     "execution_count": 69,
     "metadata": {},
     "output_type": "execute_result"
    }
   ],
   "source": [
    "y_test"
   ]
  },
  {
   "cell_type": "code",
   "execution_count": 70,
   "metadata": {},
   "outputs": [
    {
     "data": {
      "text/plain": [
       "array([23.29341424, 42.55953237, 11.79921831, 20.93062906,  1.76204876,\n",
       "       23.25710658, 21.63414139,  1.1347835 , 16.87328653, 20.53998403,\n",
       "       12.80998866,  7.91655865, 21.5766419 , 13.4698154 , 16.83996985,\n",
       "       13.62243926, 18.39723086, 18.80540533, 27.45475882, 15.37418764,\n",
       "       29.65135273, 18.74984022, 18.06857286, 17.61569954, 17.83418133,\n",
       "       29.58591124, 24.37608742, 23.58599602, 22.35214991, 23.59897873,\n",
       "       33.48725926, 16.72536945, 27.60466702, 29.12268011, 12.55396205,\n",
       "       14.78189999, 20.61013221, 17.18913426, 33.14746764, 19.58285445,\n",
       "       34.71446854, 31.25946238, 12.62682284, 23.75457282, 17.65441663,\n",
       "       20.9933495 , 38.06068875, 25.26315353, 17.61238266, 14.85168927,\n",
       "       26.00550547,  9.26891124, 14.50372445, 15.59385301, 24.93406618,\n",
       "       17.81809596, 24.44810399, 12.97085912, 11.18608919, 28.19264747,\n",
       "       11.20543671, 20.89632034, 22.41348017, 24.74951761, 27.81963517,\n",
       "       23.4468975 , 22.00645122, 20.19246042, 28.40590232, 15.96974456,\n",
       "       20.04040881,  6.12547675, 13.92022832, 17.39808327,  9.66809057,\n",
       "       13.48452694, 15.67881052, 13.21291784, 21.64866468, 24.9270923 ,\n",
       "       14.55291682, 29.29025035, 22.70130535, 29.02791617, 24.53635821,\n",
       "       16.3622721 , 41.46757415, 13.08182371, 12.83123656])"
      ]
     },
     "execution_count": 70,
     "metadata": {},
     "output_type": "execute_result"
    }
   ],
   "source": [
    "y_pred_train = lasso_best.predict(X_train)\n",
    "y_pred_train"
   ]
  },
  {
   "cell_type": "code",
   "execution_count": 71,
   "metadata": {},
   "outputs": [
    {
     "data": {
      "text/plain": [
       "25     25.55\n",
       "23     39.74\n",
       "133    13.20\n",
       "81     23.93\n",
       "79      0.00\n",
       "       ...  \n",
       "71     24.83\n",
       "106    15.41\n",
       "14     34.58\n",
       "92     13.48\n",
       "102    15.51\n",
       "Name: y, Length: 89, dtype: float64"
      ]
     },
     "execution_count": 71,
     "metadata": {},
     "output_type": "execute_result"
    }
   ],
   "source": [
    "y_train"
   ]
  },
  {
   "cell_type": "markdown",
   "metadata": {},
   "source": [
    "### 3. Ridge Regressions"
   ]
  },
  {
   "cell_type": "code",
   "execution_count": 81,
   "metadata": {},
   "outputs": [],
   "source": [
    "dcdf = pd.read_excel('ols_complete.xlsx')\n",
    "X=dcdf.drop('y', axis=1)\n",
    "y = dcdf['y']\n",
    "\n",
    "X_train, X_test, y_train, y_test = train_test_split(X, y, test_size=0.5, random_state=42)  "
   ]
  },
  {
   "cell_type": "code",
   "execution_count": 82,
   "metadata": {},
   "outputs": [
    {
     "name": "stdout",
     "output_type": "stream",
     "text": [
      "Ridge best alpha:\n",
      "{'alpha': 0.0001}\n",
      "R2 score\n",
      "0.8260088746076494\n"
     ]
    },
    {
     "name": "stderr",
     "output_type": "stream",
     "text": [
      "C:\\Users\\denis\\Anaconda3\\lib\\site-packages\\sklearn\\model_selection\\_search.py:814: DeprecationWarning: The default of the `iid` parameter will change from True to False in version 0.22 and will be removed in 0.24. This will change numeric results when test-set sizes are unequal.\n",
      "  DeprecationWarning)\n"
     ]
    }
   ],
   "source": [
    "alphas = np.linspace(.0001, 2, 1)\n",
    "param = [{'alpha': alphas}]\n",
    "ridge = Ridge(random_state=42, max_iter=50000, copy_X=True, normalize=True)\n",
    "reg_ridge = GridSearchCV(ridge, param, cv = 5)\n",
    "reg_ridge.fit(X_train, y_train)\n",
    "print('Ridge best alpha:')\n",
    "print(reg_ridge.best_params_)\n",
    "print('R2 score')\n",
    "print(reg_ridge.score(X_train, y_train))"
   ]
  },
  {
   "cell_type": "code",
   "execution_count": 83,
   "metadata": {},
   "outputs": [
    {
     "name": "stdout",
     "output_type": "stream",
     "text": [
      "R2 score\n",
      "1.0\n"
     ]
    }
   ],
   "source": [
    "ridge_best=Ridge(alpha = 0.01, random_state=42, max_iter=100000, copy_X=True, normalize=True )\n",
    "ridge_best.fit(X_train, y_train)\n",
    "y_pred = ridge_best.predict(X_train)\n",
    "print('R2 score')\n",
    "print(ridge_best.score(X_train, y_pred))"
   ]
  },
  {
   "cell_type": "code",
   "execution_count": 84,
   "metadata": {},
   "outputs": [
    {
     "data": {
      "text/plain": [
       "21.043664583695193"
      ]
     },
     "execution_count": 84,
     "metadata": {},
     "output_type": "execute_result"
    }
   ],
   "source": [
    "mean_squared_error(y_train, y_pred)"
   ]
  },
  {
   "cell_type": "code",
   "execution_count": 85,
   "metadata": {},
   "outputs": [
    {
     "name": "stdout",
     "output_type": "stream",
     "text": [
      "Residuals:\n",
      "     Min      1Q  Median      3Q      Max\n",
      "-15.1943 -2.1406 -0.1205  2.3538  21.5255\n",
      "\n",
      "\n",
      "Coefficients:\n",
      "             Estimate              Std. Error             t value   p value\n",
      "_intercept  23.338721      8.806048-0.000000j  2.650300+0.000000j  0.009535\n",
      "x1          -0.018982      0.210668-0.000000j -0.090100-0.000000j  0.928411\n",
      "x2           0.068335      0.183433-0.000000j  0.372500+0.000000j  0.710390\n",
      "x3           0.085249      0.191013-0.000000j  0.446300+0.000000j  0.656476\n",
      "x4          -0.010194      0.011632+0.000000j -0.876300+0.000000j  0.383240\n",
      "x5          -0.001872      0.004861-0.000000j -0.385100-0.000000j  0.701065\n",
      "x6          -0.008345      0.003537+0.000000j -2.359400+0.000000j  0.020519\n",
      "x7          -0.000005      0.000020+0.000000j -0.236000+0.000000j  0.813978\n",
      "x8          -0.000031      0.000016+0.000000j -1.999000+0.000000j  0.048693\n",
      "x9          -0.003393      0.000545-0.000000j -6.223300-0.000000j  0.000000\n",
      "x10          0.000127  15036.112812+0.000000j  0.000000-0.000000j  1.000000\n",
      "x11          0.000090      0.000009+0.000000j  9.906100-0.000000j  0.000000\n",
      "x12          0.001827      0.006455+0.000000j  0.283000-0.000000j  0.777866\n",
      "x13         -0.000226      0.007729+0.000000j -0.029300+0.000000j  0.976730\n",
      "x14          0.003362      0.002425-0.000000j  1.386500+0.000000j  0.169096\n",
      "x15          0.000021      0.000036+0.000000j  0.577200+0.000000j  0.565247\n",
      "x16         -0.004131  15975.282331+0.000000j -0.000000+0.000000j  1.000000\n",
      "x17          0.000918  15975.282873+0.000000j  0.000000-0.000000j  1.000000\n",
      "x18          0.011842  15975.283793+0.000000j  0.000000-0.000000j  0.999999\n",
      "x19          0.123228      0.053079-0.000000j  2.321600+0.000000j  0.022565\n",
      "x20         -0.017552      0.060468-0.000000j -0.290300-0.000000j  0.772298\n",
      "x21          0.038206      0.185672-0.000000j  0.205800+0.000000j  0.837446\n",
      "x22          0.088155      0.158777+0.000000j  0.555200-0.000000j  0.580156\n",
      "x23          0.007874      0.006567+0.000000j  1.199200+0.000000j  0.233677\n",
      "x24         -0.005135  20818.222476-0.000000j -0.000000-0.000000j  1.000000\n",
      "x25          0.010954  20818.222354-0.000000j  0.000000+0.000000j  1.000000\n",
      "x26         -0.010439  20818.222864-0.000000j -0.000000-0.000000j  1.000000\n",
      "x27         -0.007351  20818.223953+0.000000j -0.000000+0.000000j  1.000000\n",
      "---\n",
      "R-squared:  0.82534,    Adjusted R-squared:  0.74803\n",
      "F-statistic: 10.68 on 27 features\n"
     ]
    }
   ],
   "source": [
    "stats.summary(ridge_best, X_train, y_train)"
   ]
  },
  {
   "cell_type": "code",
   "execution_count": 86,
   "metadata": {},
   "outputs": [
    {
     "name": "stdout",
     "output_type": "stream",
     "text": [
      "Coefficients: \n",
      " [-1.89815422e-02  6.83354808e-02  8.52493508e-02 -1.01936638e-02\n",
      " -1.87225416e-03 -8.34457969e-03 -4.70083691e-06 -3.10986000e-05\n",
      " -3.39294388e-03  1.27030584e-04  9.03850789e-05  1.82653118e-03\n",
      " -2.26081768e-04  3.36170385e-03  2.06932148e-05 -4.13075094e-03\n",
      "  9.18266960e-04  1.18418126e-02  1.23228372e-01 -1.75516197e-02\n",
      "  3.82056775e-02  8.81552186e-02  7.87444297e-03 -5.13535032e-03\n",
      "  1.09536247e-02 -1.04385890e-02 -7.35063194e-03]\n",
      "Mean squared error: 22.55\n",
      "Coefficient of determination: 0.64\n"
     ]
    }
   ],
   "source": [
    "# Make predictions using the testing set\n",
    "y_pred = ridge_best.predict(X_test)\n",
    "\n",
    "len(y_pred)\n",
    "# The coefficients\n",
    "print('Coefficients: \\n', ridge_best.coef_)\n",
    "# The mean squared error\n",
    "print('Mean squared error: %.2f'\n",
    "      % mean_squared_error(y_test, y_pred))\n",
    "# The coefficient of determination: 1 is perfect prediction\n",
    "print('Coefficient of determination: %.2f'\n",
    "      % r2_score(y_test, y_pred))"
   ]
  },
  {
   "cell_type": "code",
   "execution_count": 87,
   "metadata": {},
   "outputs": [
    {
     "data": {
      "text/plain": [
       "array([26.64744034, 48.36057542, 22.76643121, 36.18326236,  9.08900236,\n",
       "       33.04142449, 36.32505982, 38.46546128, 28.07200385, 34.20825986,\n",
       "       40.57387632, 37.17858674, 31.44142701, 40.74089637, 36.38350693,\n",
       "       40.33833321, 31.52584234, 37.09451401, 31.69582349, 39.01176096,\n",
       "       30.0988383 , 43.0949638 , 36.45968845, 49.73025192, 30.72816999,\n",
       "       44.81079229, 32.42036453, 34.9976069 , 33.13022456, 45.02779532,\n",
       "       31.55183117, 19.92633988, 29.68220081, 43.95994769, 38.31634467,\n",
       "       38.03155557, 34.75484053, 36.66152938, 50.75202014, 27.79415678,\n",
       "       30.41544425, 46.85850966, 28.45032405, 31.37572681, 33.86055361,\n",
       "       35.58455841, 35.67830071, 46.07659567, 31.16498503, 39.50529245,\n",
       "       29.25001152, 38.49844761, 37.0953295 , 36.05462078, 44.61666103,\n",
       "       36.13096651, 36.47546113, 28.21871266, 32.05253681, 29.86109374,\n",
       "       39.17044867, 31.62588542, 36.05517326, 36.8192289 , 67.24375903,\n",
       "       28.90539211, 36.41629182, 37.17016112, 47.43552601, 42.07729975,\n",
       "       43.82479143, 30.9736283 , 47.67640668, 45.86148135, 24.02170924,\n",
       "       41.02427291, 26.55333412, 53.66253583, 31.80487014, 31.31028404,\n",
       "       46.28927663, 33.41626174, 37.76260531, 38.32683915, 29.83173147,\n",
       "       32.04636431, 39.43748398, 48.63393429, 37.53323119, 26.06883853])"
      ]
     },
     "execution_count": 87,
     "metadata": {},
     "output_type": "execute_result"
    }
   ],
   "source": [
    "y_pred"
   ]
  },
  {
   "cell_type": "code",
   "execution_count": null,
   "metadata": {},
   "outputs": [],
   "source": []
  },
  {
   "cell_type": "code",
   "execution_count": null,
   "metadata": {},
   "outputs": [],
   "source": []
  },
  {
   "cell_type": "code",
   "execution_count": null,
   "metadata": {},
   "outputs": [],
   "source": []
  },
  {
   "cell_type": "code",
   "execution_count": null,
   "metadata": {},
   "outputs": [],
   "source": []
  },
  {
   "cell_type": "code",
   "execution_count": null,
   "metadata": {},
   "outputs": [],
   "source": []
  },
  {
   "cell_type": "code",
   "execution_count": null,
   "metadata": {},
   "outputs": [],
   "source": []
  },
  {
   "cell_type": "code",
   "execution_count": null,
   "metadata": {},
   "outputs": [],
   "source": []
  }
 ],
 "metadata": {
  "kernelspec": {
   "display_name": "Python 3",
   "language": "python",
   "name": "python3"
  },
  "language_info": {
   "codemirror_mode": {
    "name": "ipython",
    "version": 3
   },
   "file_extension": ".py",
   "mimetype": "text/x-python",
   "name": "python",
   "nbconvert_exporter": "python",
   "pygments_lexer": "ipython3",
   "version": "3.7.4"
  }
 },
 "nbformat": 4,
 "nbformat_minor": 2
}
