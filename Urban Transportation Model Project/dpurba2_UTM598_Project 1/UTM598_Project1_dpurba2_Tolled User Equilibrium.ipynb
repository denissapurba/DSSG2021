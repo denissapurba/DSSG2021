{
 "cells": [
  {
   "cell_type": "code",
   "execution_count": 1,
   "metadata": {},
   "outputs": [],
   "source": [
    "import math\n",
    "import numpy as np\n",
    "import networkx as nx\n",
    "import pandas as pd"
   ]
  },
  {
   "cell_type": "markdown",
   "metadata": {},
   "source": [
    "# Frank-Wolfe Algorithm (Tolled User Equilibrium)"
   ]
  },
  {
   "cell_type": "markdown",
   "metadata": {},
   "source": [
    "This section construct the Frank-Wolfe Algorithm to solve Tolled User Equilibrium problem.\n",
    "\n",
    "Note: \n",
    "1. The All-or-nothing will be done using Bellman-Ford algorithm in Networkx packages. \n",
    "2. The alpha would be solved directly using bisection (I also checked with the Goal Seek in Excel)\n",
    "3. Convergence is checked manually in Excel - Terminate at 15th Iteration for tolerance 0.0005"
   ]
  },
  {
   "cell_type": "markdown",
   "metadata": {},
   "source": [
    "### I. Network Properties"
   ]
  },
  {
   "cell_type": "code",
   "execution_count": 2,
   "metadata": {},
   "outputs": [
    {
     "name": "stdout",
     "output_type": "stream",
     "text": [
      "number of arcs = 76\n",
      "number of nodes = 24\n",
      "number of considered pairs = 196\n"
     ]
    },
    {
     "name": "stderr",
     "output_type": "stream",
     "text": [
      "C:\\Users\\denis\\Anaconda3\\lib\\site-packages\\networkx\\drawing\\nx_pylab.py:579: MatplotlibDeprecationWarning: \n",
      "The iterable function was deprecated in Matplotlib 3.1 and will be removed in 3.3. Use np.iterable instead.\n",
      "  if not cb.iterable(width):\n",
      "C:\\Users\\denis\\Anaconda3\\lib\\site-packages\\networkx\\drawing\\nx_pylab.py:676: MatplotlibDeprecationWarning: \n",
      "The iterable function was deprecated in Matplotlib 3.1 and will be removed in 3.3. Use np.iterable instead.\n",
      "  if cb.iterable(node_size):  # many node sizes\n"
     ]
    }
   ],
   "source": [
    "#Define a graph\n",
    "\n",
    "G=nx.read_weighted_edgelist(\"UTM598_dpurba2.txt\", create_using=nx.DiGraph())\n",
    "G1=nx.read_weighted_edgelist(\"UTM598_dpurba2_cap.txt\", create_using=nx.DiGraph())\n",
    "G2=nx.read_weighted_edgelist(\"UTM598_dpurba2_path.txt\", create_using=nx.DiGraph())\n",
    "G4=nx.read_weighted_edgelist(\"UTM598_dpurba2_tolled.txt\", create_using=nx.DiGraph())\n",
    "G.add_node('1', loc=(1,8))\n",
    "G.add_node('2', loc=(4,8))\n",
    "G.add_node('3', loc=(1,7))\n",
    "G.add_node('4', loc=(2,7))\n",
    "G.add_node('5', loc=(3,7))\n",
    "G.add_node('6', loc=(4,7))\n",
    "G.add_node('7', loc=(5,6))\n",
    "G.add_node('8', loc=(4,6))\n",
    "G.add_node('9', loc=(3,6))\n",
    "G.add_node('10', loc=(3,5))\n",
    "G.add_node('11', loc=(2,5))\n",
    "G.add_node('12', loc=(1,5))\n",
    "G.add_node('13', loc=(1,1))\n",
    "G.add_node('14', loc=(2,3))\n",
    "G.add_node('15', loc=(3,3))\n",
    "G.add_node('16', loc=(4,5))\n",
    "G.add_node('17', loc=(4,4))\n",
    "G.add_node('18', loc=(5,5))\n",
    "G.add_node('19', loc=(4,3))\n",
    "G.add_node('20', loc=(4,1))\n",
    "G.add_node('21', loc=(3,1))\n",
    "G.add_node('22', loc=(3,2))\n",
    "G.add_node('23', loc=(2,2))\n",
    "G.add_node('24', loc=(2,1))\n",
    "\n",
    "pos = nx.get_node_attributes(G, 'loc')\n",
    "time = nx.get_edge_attributes(G,'weight')\n",
    "capacity = nx.get_edge_attributes(G1,'weight')\n",
    "allnothing = nx.get_edge_attributes(G2,'weight')\n",
    "tolls = nx.get_edge_attributes(G4,'weight')\n",
    "edgelist=list(G.edges())\n",
    "nodelist=list(G.nodes())\n",
    "\n",
    "nfrom = []\n",
    "nto = []\n",
    "for i in range(len(edgelist)):\n",
    "    nfrom.append(edgelist[i][0])\n",
    "    nto.append(edgelist[i][1])\n",
    "\n",
    "# Origin and Destination\n",
    "\n",
    "noncentral = ['3','6','7','8', '9', '12','16','17','18','23']\n",
    "origins = [\"1\", \"2\", \"4\", \"5\", \"10\", \"11\", \"13\", \"14\", \"15\", \"19\", \"20\", \"21\", \"22\", \"24\"]\n",
    "destinations = [\"1\", \"2\", \"4\", \"5\", \"10\", \"11\", \"13\", \"14\", \"15\", \"19\", \"20\", \"21\", \"22\", \"24\"]\n",
    "OD = [[a,b] for a in origins\n",
    "        for b in destinations]\n",
    "\n",
    "demand = {'1':{'1':0, '2':1320, '4':1320, '5':1320, '10':1080, '11':1100, '13':1250, '14':990, '15':950, '19':900, '20':590, '21':590, '22':770, '24':740},\n",
    "    '2':{'1':1320, '2':0, '4':1250, '5':1300, '10':1100, '11':1120, '13':900, '14':950, '15':940, '19':1300, '20':590, '21':680, '22':670, '24':590},\n",
    "    '4':{'1':1320, '2':1250, '4':0, '5':1320, '10':1080, '11':1070, '13':950, '14':900, '15':840, '19':800, '20':1620, '21':640, '22':590, '24':800},\n",
    "    '5':{'1':1320, '2':1300, '4':1320, '5':0, '10':1130, '11':970, '13':910, '14':880, '15':810, '19':730, '20':800, '21':810, '22':940, '24':590},\n",
    "    '10':{'1':1080, '2':1100, '4':1080, '5':1130, '10':0, '11':1330, '13':900, '14':990, '15':1320, '19':1170, '20':950, '21':900, '22':970, '24':590},\n",
    "    '11':{'1':1100, '2':1120, '4':1070, '5':970, '10':1330, '11':0, '13':940, '14':1320, '15':1110, '19':950, '20':740, '21':610, '22':1100, '24':1050},\n",
    "    '13':{'1':1250, '2':900, '4':950, '5':910, '10':900, '11':940, '13':0, '14':870, '15':860, '19':680, '20':590, '21':620, '22':670, '24':1320},\n",
    "    '14':{'1':990, '2':950, '4':900, '5':880, '10':990, '11':1320, '13':870, '14':0, '15':1320, '19':1130, '20':950, '21':870, '22':900, '24':1130},\n",
    "    '15':{'1':950, '2':940, '4':840, '5':810, '10':1320, '11':1110, '13':860, '14':1320, '15':0, '19':1320, '20':1270, '21':1140, '22':1320, '24':910},\n",
    "    '19':{'1':900, '2':1300, '4':800, '5':730, '10':1170, '11':950, '13':680, '14':1130, '15':1320, '19':0, '20':1320, '21':1110, '22':1100, '24':800},\n",
    "    '20':{'1':590, '2':590, '4':1620, '5':800, '10':950, '11':740, '13':590, '14':980, '15':1270, '19':1320, '20':0, '21':1320, '22':1320, '24':610},\n",
    "    '21':{'1':590, '2':680, '4':640, '5':810, '10':900, '11':610, '13':620, '14':870, '15':1140, '19':1110, '20':1320, '21':0, '22':1320, '24':1320},\n",
    "    '22':{'1':770, '2':670, '4':590, '5':940, '10':970, '11':1100, '13':670, '14':900, '15':1320, '19':1100, '20':1320, '21':1320, '22':0, '24':1130},\n",
    "    '24':{'1':740, '2':590, '4':800, '5':590, '10':590, '11':1050, '13':1320, '14':1130, '15':910, '19':800, '20':610, '21':1320, '22':1130, '24':0}}\n",
    "\n",
    "\n",
    "nx.draw_networkx(G, pos, arrows=True, with_labels=True)\n",
    "print('number of arcs = '+ str(len(edgelist)))\n",
    "print('number of nodes = '+ str(len(nodelist)))\n",
    "print('number of considered pairs = ' + str(len(OD)))"
   ]
  },
  {
   "cell_type": "code",
   "execution_count": 3,
   "metadata": {},
   "outputs": [
    {
     "data": {
      "text/plain": [
       "{('1', '2'): 1.562813215,\n",
       " ('1', '3'): 2.514501747,\n",
       " ('2', '1'): 0.009777781,\n",
       " ('2', '6'): 0.713580889,\n",
       " ('3', '1'): 0.008030965,\n",
       " ('3', '4'): 0.003007548,\n",
       " ('3', '12'): 0.004076403,\n",
       " ('6', '2'): 2.010367448,\n",
       " ('6', '5'): 0.533602589,\n",
       " ('6', '8'): 0.081471103,\n",
       " ('4', '3'): 0.025520439,\n",
       " ('4', '5'): 0.05670617,\n",
       " ('4', '11'): 0.267802382,\n",
       " ('12', '3'): 0.0045972,\n",
       " ('12', '11'): 0.056365704,\n",
       " ('12', '13'): 0.001857283,\n",
       " ('5', '4'): 0.011204466,\n",
       " ('5', '6'): 0.207991805,\n",
       " ('5', '9'): 0.344540859,\n",
       " ('11', '4'): 0.27920744,\n",
       " ('11', '10'): 0.012011558,\n",
       " ('11', '12'): 0.055957386,\n",
       " ('11', '14'): 1.005532534,\n",
       " ('9', '5'): 0.086325693,\n",
       " ('9', '8'): 0.002031265,\n",
       " ('9', '10'): 0.024528082,\n",
       " ('8', '6'): 0.580207243,\n",
       " ('8', '7'): 0.010848283,\n",
       " ('8', '9'): 0.027904235,\n",
       " ('8', '16'): 0.033615778,\n",
       " ('7', '8'): 0.008266939,\n",
       " ('7', '18'): 9.10541e-05,\n",
       " ('18', '7'): 6.93878e-05,\n",
       " ('18', '16'): 3.67071e-06,\n",
       " ('18', '20'): 0.650805624,\n",
       " ('16', '8'): 0.009185513,\n",
       " ('16', '10'): 0.005039464,\n",
       " ('16', '17'): 0.011642362,\n",
       " ('16', '18'): 3.63244e-06,\n",
       " ('10', '9'): 0.029451874,\n",
       " ('10', '11'): 0.016820244,\n",
       " ('10', '15'): 0.052507465,\n",
       " ('10', '16'): 0.00130613,\n",
       " ('10', '17'): 0.0050562,\n",
       " ('15', '10'): 0.051944157,\n",
       " ('15', '14'): 0.01828078,\n",
       " ('15', '19'): 0.189353435,\n",
       " ('15', '22'): 0.085509361,\n",
       " ('17', '10'): 0.009451829,\n",
       " ('17', '16'): 0.007746623,\n",
       " ('17', '19'): 0.09686351,\n",
       " ('14', '11'): 1.011716433,\n",
       " ('14', '15'): 0.032839454,\n",
       " ('14', '23'): 0.281603565,\n",
       " ('13', '12'): 0.002105966,\n",
       " ('13', '24'): 1.511600097,\n",
       " ('24', '13'): 1.100792895,\n",
       " ('24', '21'): 0.668502164,\n",
       " ('24', '23'): 0.129471432,\n",
       " ('23', '14'): 0.390347508,\n",
       " ('23', '22'): 0.140676708,\n",
       " ('23', '24'): 0.141866899,\n",
       " ('19', '15'): 0.601603241,\n",
       " ('19', '17'): 0.09686351,\n",
       " ('19', '20'): 0.195553557,\n",
       " ('22', '15'): 0.159054635,\n",
       " ('22', '20'): 0.003413486,\n",
       " ('22', '21'): 0.137303771,\n",
       " ('22', '23'): 0.226963841,\n",
       " ('20', '18'): 0.533744262,\n",
       " ('20', '19'): 0.230092309,\n",
       " ('20', '21'): 0.2794267,\n",
       " ('20', '22'): 0.057060694,\n",
       " ('21', '20'): 0.207031265,\n",
       " ('21', '22'): 0.158495021,\n",
       " ('21', '24'): 0.727649883}"
      ]
     },
     "execution_count": 3,
     "metadata": {},
     "output_type": "execute_result"
    }
   ],
   "source": [
    "tolls"
   ]
  },
  {
   "cell_type": "markdown",
   "metadata": {},
   "source": [
    "### II. All-or-Nothing Algorithm"
   ]
  },
  {
   "cell_type": "code",
   "execution_count": 4,
   "metadata": {},
   "outputs": [],
   "source": [
    "# All-or-Nothing Algorithm\n",
    "def allnothing_funct(timefeed,G2,OD,nfrom,nto,noncentral,origins,destinations):\n",
    "    # Define new graph (G_iter) with new feed time\n",
    "    merged_edgelist = [(nfrom[i], nto[i], timefeed[i]) for i in range(0, len(edgelist))] \n",
    "\n",
    "    G_iter = nx.DiGraph()\n",
    "    G_iter.add_weighted_edges_from(merged_edgelist)\n",
    "    timeiter = nx.get_edge_attributes(G_iter,'weight')\n",
    "    #nx.draw_networkx(G_iter, pos, arrows=True, with_labels=True)\n",
    "    #nx.draw_networkx_edge_labels(G_iter, pos, edge_labels=timeiter)\n",
    "    #print(timeiter)\n",
    "\n",
    "    # Bellman-Ford Algorithm\n",
    "    allpath = dict(nx.all_pairs_bellman_ford_path(G_iter, weight='weight'))\n",
    "\n",
    "    # Clean all pairs path to only consider OD pairs for Project 1\n",
    "    for i in range(len(noncentral)):\n",
    "        del allpath[noncentral[i]] \n",
    "\n",
    "    for i in range(len(origins)):\n",
    "        for j in range(len(noncentral)):\n",
    "            del allpath[origins[i]][noncentral[j]]\n",
    "\n",
    "    # Finding Ya\n",
    "    ya_iter = []\n",
    "    allnothing = nx.get_edge_attributes(G2,'weight')\n",
    "    ya_iter = allnothing\n",
    "\n",
    "    for k in range(len(OD)):\n",
    "        ODpath = allpath[OD[k][0]][OD[k][1]]\n",
    "        usedlink = []\n",
    "\n",
    "        if len(ODpath) > 1:\n",
    "            for j in range(len(ODpath)-1):\n",
    "                B = []\n",
    "                B.append(ODpath[j])\n",
    "                B.append(ODpath[j+1])\n",
    "                usedlink.append(B)\n",
    "\n",
    "        for i in range(len(usedlink)):\n",
    "            (usedlink[i][0],usedlink[i][1])\n",
    "            ya_iter[(usedlink[i][0],usedlink[i][1])]+=demand[OD[k][0]][OD[k][1]]\n",
    "\n",
    "    allnothing = nx.get_edge_attributes(G2,'weight')\n",
    "    return ya_iter"
   ]
  },
  {
   "cell_type": "markdown",
   "metadata": {},
   "source": [
    "### III. Bisection Algorithm"
   ]
  },
  {
   "cell_type": "code",
   "execution_count": 5,
   "metadata": {},
   "outputs": [],
   "source": [
    "# Bisection Algorithm\n",
    "\n",
    "def bisection_funct(x,y,edgelist,time,capacity):\n",
    "    ya_iter= []\n",
    "    xa_iter = []\n",
    "    ya_iter = y\n",
    "    xa_iter = x\n",
    "\n",
    "    a = 0\n",
    "    b = 1\n",
    "\n",
    "    def fa(alpha):\n",
    "        fa = 0\n",
    "        for i in range(len(edgelist)):\n",
    "            fa+=time[edgelist[i]]*((xa_iter[edgelist[i]] + alpha * (ya_iter[edgelist[i]]-xa_iter[edgelist[i]]))\n",
    "                                   +0.03/(capacity[edgelist[i]]**4)\n",
    "                                   *((xa_iter[edgelist[i]]+alpha*(ya_iter[edgelist[i]]-xa_iter[edgelist[i]]))**5))+tolls[edgelist[i]]*(xa_iter[edgelist[i]] + alpha * (ya_iter[edgelist[i]]-xa_iter[edgelist[i]]))\n",
    "            \n",
    "        return fa\n",
    "\n",
    "    def dfa(alpha):\n",
    "        dfa = 0\n",
    "        for i in range(len(edgelist)):\n",
    "            dfa+=time[edgelist[i]]*((ya_iter[edgelist[i]]-xa_iter[edgelist[i]])\n",
    "                       +0.03/(capacity[edgelist[i]]**4)*5\n",
    "                       *(ya_iter[edgelist[i]]-xa_iter[edgelist[i]])\n",
    "                       *(xa_iter[edgelist[i]] + alpha * (ya_iter[edgelist[i]]-xa_iter[edgelist[i]]))**4)+tolls[edgelist[i]]*((ya_iter[edgelist[i]]-xa_iter[edgelist[i]]))\n",
    "        return dfa\n",
    "\n",
    "\n",
    "    m = (a+b)/2\n",
    "\n",
    "    while (np.abs(a-b)) >=0.0000000001:\n",
    "        if np.sign(dfa(m))< 0:\n",
    "            a=m\n",
    "        else:\n",
    "            b=m\n",
    "\n",
    "        m = (a+b)/2\n",
    "        \n",
    "    return m"
   ]
  },
  {
   "cell_type": "markdown",
   "metadata": {},
   "source": [
    "### IV. Initiation"
   ]
  },
  {
   "cell_type": "code",
   "execution_count": 6,
   "metadata": {},
   "outputs": [
    {
     "name": "stdout",
     "output_type": "stream",
     "text": [
      "Initiation:\n",
      "Objective Z = 1399023.1213478022\n",
      "Xa_0 = \n",
      "{('1', '2'): 4300.0, ('1', '3'): 11600.0, ('2', '1'): 4300.0, ('2', '6'): 11390.0, ('3', '1'): 11600.0, ('3', '4'): 8560.0, ('3', '12'): 10820.0, ('6', '2'): 11390.0, ('6', '5'): 8570.0, ('6', '8'): 10720.0, ('4', '3'): 8560.0, ('4', '5'): 15680.0, ('4', '11'): 6480.0, ('12', '3'): 10820.0, ('12', '11'): 3930.0, ('12', '13'): 10570.0, ('5', '4'): 16270.0, ('5', '6'): 8570.0, ('5', '9'): 7640.0, ('11', '4'): 5890.0, ('11', '10'): 4910.0, ('11', '12'): 3930.0, ('11', '14'): 10490.0, ('9', '5'): 8230.0, ('9', '8'): 2040.0, ('9', '10'): 9680.0, ('8', '6'): 10720.0, ('8', '7'): 4950.0, ('8', '9'): 2040.0, ('8', '16'): 3730.0, ('7', '8'): 4950.0, ('7', '18'): 4950.0, ('18', '7'): 4950.0, ('18', '16'): 1690.0, ('18', '20'): 6640.0, ('16', '8'): 3730.0, ('16', '10'): 1690.0, ('16', '17'): 3730.0, ('16', '18'): 1690.0, ('10', '9'): 10270.0, ('10', '11'): 4910.0, ('10', '15'): 9070.0, ('10', '16'): 1690.0, ('10', '17'): 2120.0, ('15', '10'): 9660.0, ('15', '14'): 3560.0, ('15', '19'): 5770.0, ('15', '22'): 9540.0, ('17', '10'): 2120.0, ('17', '16'): 3730.0, ('17', '19'): 5850.0, ('14', '11'): 9900.0, ('14', '15'): 4510.0, ('14', '23'): 7120.0, ('13', '12'): 10570.0, ('13', '24'): 10330.0, ('24', '13'): 10330.0, ('24', '21'): 12260.0, ('24', '23'): 4530.0, ('23', '14'): 7510.0, ('23', '22'): 2590.0, ('23', '24'): 4530.0, ('19', '15'): 3550.0, ('19', '17'): 5850.0, ('19', '20'): 6130.0, ('22', '15'): 11400.0, ('22', '20'): 1990.0, ('22', '21'): 9100.0, ('22', '23'): 2980.0, ('20', '18'): 6640.0, ('20', '19'): 3910.0, ('20', '21'): 5790.0, ('20', '22'): 4240.0, ('21', '20'): 5790.0, ('21', '22'): 9100.0, ('21', '24'): 12260.0}\n"
     ]
    }
   ],
   "source": [
    "# Initiation\n",
    "# Revise Time\n",
    "time0_list= []\n",
    "\n",
    "for i in range(len(list(time.values()))):\n",
    "    time0_list.append(list(time.values())[i]+list(tolls.values())[i])\n",
    "\n",
    "\n",
    "xa = allnothing_funct(time0_list,G2,OD,nfrom,nto,noncentral,origins,destinations)\n",
    "\n",
    "Z = 0\n",
    "for i in range(len(edgelist)):\n",
    "    Z+=time[edgelist[i]]*((xa[edgelist[i]])+0.03/capacity[edgelist[i]]**4*((xa[edgelist[i]]))**5)+tolls[edgelist[i]]*(xa[edgelist[i]])           \n",
    "\n",
    "print('Initiation:')\n",
    "print('Objective Z = ' + str(Z))\n",
    "print('Xa_0 = ')\n",
    "print(xa)"
   ]
  },
  {
   "cell_type": "markdown",
   "metadata": {},
   "source": [
    "### V. Main Iterations"
   ]
  },
  {
   "cell_type": "code",
   "execution_count": 7,
   "metadata": {
    "scrolled": false
   },
   "outputs": [
    {
     "name": "stdout",
     "output_type": "stream",
     "text": [
      "\n",
      "Iteration:14\n",
      "alpha = 0.04696872699423693\n",
      "Objective Z = 1395747.2269104228\n",
      "Ya = \n",
      "{('1', '2'): 4300.0, ('1', '3'): 11600.0, ('2', '1'): 2810.0, ('2', '6'): 11390.0, ('3', '1'): 13090.0, ('3', '4'): 8560.0, ('3', '12'): 10820.0, ('6', '2'): 9900.0, ('6', '5'): 10060.0, ('6', '8'): 10720.0, ('4', '3'): 10050.0, ('4', '5'): 16270.0, ('4', '11'): 5890.0, ('12', '3'): 10820.0, ('12', '11'): 3930.0, ('12', '13'): 10570.0, ('5', '4'): 17760.0, ('5', '6'): 8570.0, ('5', '9'): 8230.0, ('11', '4'): 5890.0, ('11', '10'): 6020.0, ('11', '12'): 3930.0, ('11', '14'): 8790.0, ('9', '5'): 8230.0, ('9', '8'): 2040.0, ('9', '10'): 10270.0, ('8', '6'): 10720.0, ('8', '7'): 4950.0, ('8', '9'): 2040.0, ('8', '16'): 3730.0, ('7', '8'): 4950.0, ('7', '18'): 4950.0, ('18', '7'): 4950.0, ('18', '16'): 1690.0, ('18', '20'): 6640.0, ('16', '8'): 3730.0, ('16', '10'): 3810.0, ('16', '17'): 3730.0, ('16', '18'): 1690.0, ('10', '9'): 10270.0, ('10', '11'): 4910.0, ('10', '15'): 10770.0, ('10', '16'): 1690.0, ('10', '17'): 2120.0, ('15', '10'): 9660.0, ('15', '14'): 3560.0, ('15', '19'): 5770.0, ('15', '22'): 10130.0, ('17', '10'): 0.0, ('17', '16'): 5850.0, ('17', '19'): 5850.0, ('14', '11'): 9900.0, ('14', '15'): 3400.0, ('14', '23'): 6530.0, ('13', '12'): 10570.0, ('13', '24'): 10330.0, ('24', '13'): 10330.0, ('24', '21'): 12260.0, ('24', '23'): 4530.0, ('23', '14'): 7510.0, ('23', '22'): 2000.0, ('23', '24'): 4530.0, ('19', '15'): 3550.0, ('19', '17'): 5850.0, ('19', '20'): 6130.0, ('22', '15'): 11400.0, ('22', '20'): 1990.0, ('22', '21'): 9100.0, ('22', '23'): 2980.0, ('20', '18'): 6640.0, ('20', '19'): 3910.0, ('20', '21'): 5790.0, ('20', '22'): 4240.0, ('21', '20'): 5790.0, ('21', '22'): 9100.0, ('21', '24'): 12260.0}\n",
      "Xa = \n",
      "{('1', '2'): 5372.558037393198, ('1', '3'): 10527.441962606803, ('2', '1'): 2994.971189747211, ('2', '6'): 12462.558037393197, ('3', '1'): 12905.02881025279, ('3', '4'): 7487.441962606802, ('3', '12'): 10820.0, ('6', '2'): 10084.97118974721, ('6', '5'): 7423.085157336911, ('6', '8'): 12366.527584402114, ('4', '3'): 9470.652240712237, ('4', '5'): 15165.327752863983, ('4', '11'): 5348.144662733905, ('12', '3'): 11214.376569540553, ('12', '11'): 3930.0, ('12', '13'): 10570.0, ('5', '4'): 16606.682693703322, ('5', '6'): 8570.0, ('5', '9'): 7125.327752863982, ('11', '4'): 5890.0, ('11', '10'): 5940.607182485735, ('11', '12'): 3930.0, ('11', '14'): 8796.54905633635, ('9', '5'): 9713.59753636641, ('9', '8'): 2040.0, ('9', '10'): 10811.855337266097, ('8', '6'): 8842.025894093038, ('8', '7'): 4950.0, ('8', '9'): 3757.4344532696728, ('8', '16'): 3730.0, ('7', '8'): 4555.623430459446, ('7', '18'): 4950.0, ('18', '7'): 4555.623430459446, ('18', '16'): 1690.0, ('18', '20'): 6640.0, ('16', '8'): 2317.3093325011487, ('16', '10'): 2241.408737097517, ('16', '17'): 3730.0, ('16', '18'): 1690.0, ('10', '9'): 11682.690667498851, ('10', '11'): 6311.4223232171535, ('10', '15'): 10763.45094366365, ('10', '16'): 1690.0, ('10', '17'): 2120.0, ('15', '10'): 10592.41074712897, ('15', '14'): 2812.7583857986424, ('15', '19'): 5789.506327386673, ('15', '22'): 10112.71460433526, ('17', '10'): 2981.2819304013337, ('17', '16'): 2868.7180695986663, ('17', '19'): 5850.0, ('14', '11'): 8967.58925287103, ('14', '15'): 3423.1617028837272, ('14', '23'): 6618.345324373357, ('13', '12'): 10964.376569540553, ('13', '24'): 10330.0, ('24', '13'): 10724.376569540553, ('24', '21'): 8104.91531337639, ('24', '23'): 7185.15945403434, ('23', '14'): 7429.788837993121, ('23', '22'): 6243.430010996968, ('23', '24'): 6751.829827279912, ('19', '15'): 3524.5461742895363, ('19', '17'): 5850.0, ('19', '20'): 6058.940071291379, ('22', '15'): 11596.231243812636, ('22', '20'): 2114.782273568941, ('22', '21'): 6941.303198821437, ('22', '23'): 6621.543897862302, ('20', '18'): 6245.623430459446, ('20', '19'): 3793.9799181942426, ('20', '21'): 6121.243543439205, ('20', '22'): 4328.586851811813, ('21', '20'): 5645.711399044385, ('21', '22'): 6589.129146921276, ('21', '24'): 8932.62150967137}\n"
     ]
    }
   ],
   "source": [
    "error = 10\n",
    "xa_old = xa\n",
    "\n",
    "for kk in range(15):\n",
    "    # Revise Time\n",
    "    time_list= []\n",
    "    timefeed = []\n",
    "\n",
    "    for i in range(len(list(time.values()))):\n",
    "        time_list.append(list(time.values())[i]*(1+0.15*(list(xa.values())[i]/list(capacity.values())[i])**4)++list(tolls.values())[i])\n",
    "\n",
    "    timefeed = time_list\n",
    "\n",
    "    # All-or-Nothing \n",
    "    ya = allnothing_funct(timefeed,G2,OD,nfrom,nto,noncentral,origins,destinations)\n",
    "\n",
    "    # Find Alpha\n",
    "    alpha = bisection_funct(xa,ya,edgelist,time,capacity)\n",
    "\n",
    "    # New Direction\n",
    "    xa_newiterlist = []\n",
    "    for j in range(len(edgelist)):\n",
    "        xa_newiterlist.append(xa[edgelist[j]] + alpha * (ya[edgelist[j]]-xa[edgelist[j]]))\n",
    "\n",
    "    xa_newiter = allnothing\n",
    "    for ii in range(len(edgelist)):\n",
    "        xa_newiter[edgelist[ii]] =  xa_newiterlist[ii]\n",
    "\n",
    "    # Ojective\n",
    "    xa = xa_newiter\n",
    "    xa1 = xa\n",
    "    Z = 0\n",
    "    for jj in range(len(edgelist)):\n",
    "        Z+=time[edgelist[jj]]*((xa[edgelist[jj]])+0.03/capacity[edgelist[jj]]**4*((xa[edgelist[jj]]))**5)+tolls[edgelist[jj]]*(xa[edgelist[jj]])           \n",
    "           \n",
    "\n",
    "    # Error\n",
    "    errorlist = []\n",
    "    for i in range(len(edgelist)):\n",
    "        errorlist.append((xa_newiter[edgelist[i]]-xa_old[edgelist[i]])**2)\n",
    "\n",
    "    error = (sum(errorlist))**0.5/sum(list(xa_old.values()))\n",
    "\n",
    "\n",
    "    xa1 = xa  \n",
    "    time_list= []\n",
    "    xa_newiterlist = []\n",
    "\n",
    "print('\\nIteration:' + str(kk))\n",
    "print ('alpha = ' + str(alpha))\n",
    "print('Objective Z = ' + str(Z))\n",
    "print('Ya = ')\n",
    "print(ya)\n",
    "print('Xa = ')\n",
    "print(xa)"
   ]
  },
  {
   "cell_type": "code",
   "execution_count": null,
   "metadata": {},
   "outputs": [],
   "source": []
  }
 ],
 "metadata": {
  "kernelspec": {
   "display_name": "Python 3",
   "language": "python",
   "name": "python3"
  },
  "language_info": {
   "codemirror_mode": {
    "name": "ipython",
    "version": 3
   },
   "file_extension": ".py",
   "mimetype": "text/x-python",
   "name": "python",
   "nbconvert_exporter": "python",
   "pygments_lexer": "ipython3",
   "version": "3.7.4"
  }
 },
 "nbformat": 4,
 "nbformat_minor": 4
}
